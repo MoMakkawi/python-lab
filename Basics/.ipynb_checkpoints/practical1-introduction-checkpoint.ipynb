{
 "cells": [
  {
   "cell_type": "markdown",
   "metadata": {},
   "source": [
    "# <center>MSC-INF101E – Practical 1: The Basics of Python\n",
    "## <center>Professors: Lina Fahed, Gwen Maudet\n",
    " ## <center>2022-2023\n",
    "    \n",
    "    \n",
    "Very useful examples can be found here: https://www.w3schools.com/python/python_intro.asp    "
   ]
  },
  {
   "cell_type": "markdown",
   "metadata": {},
   "source": [
    "** ** \n",
    "** ** \n",
    "## 1. First step: print statement\n",
    "\n",
    "The first step will be to print out \"good morning world\" in your language"
   ]
  },
  {
   "cell_type": "code",
   "execution_count": 6,
   "metadata": {},
   "outputs": [
    {
     "name": "stdout",
     "output_type": "stream",
     "text": [
      "Good morning  world!\n"
     ]
    }
   ],
   "source": [
    "print (\"Good morning  world!\")"
   ]
  },
  {
   "cell_type": "code",
   "execution_count": 7,
   "metadata": {},
   "outputs": [
    {
     "name": "stdout",
     "output_type": "stream",
     "text": [
      "Bonjour le monde !\n"
     ]
    }
   ],
   "source": [
    "print (\"Bonjour le monde !\")"
   ]
  },
  {
   "cell_type": "code",
   "execution_count": 8,
   "metadata": {
    "scrolled": true
   },
   "outputs": [
    {
     "name": "stdout",
     "output_type": "stream",
     "text": [
      "Hola Mundo\n"
     ]
    }
   ],
   "source": [
    "print (\"Hola Mundo\")"
   ]
  },
  {
   "cell_type": "code",
   "execution_count": 9,
   "metadata": {},
   "outputs": [
    {
     "name": "stdout",
     "output_type": "stream",
     "text": [
      "你 好 世 界!\n"
     ]
    }
   ],
   "source": [
    "print (u'你 好 世 界!')"
   ]
  },
  {
   "cell_type": "code",
   "execution_count": 1,
   "metadata": {},
   "outputs": [
    {
     "name": "stdout",
     "output_type": "stream",
     "text": [
      " I said \"I do not know\"  \n",
      "hellO wOrld\n"
     ]
    }
   ],
   "source": [
    "print (\" I said \\\"I do not know\\\"  \")\n",
    "\n",
    "\n",
    "\n",
    "## Let us test more prints\n",
    "a = \"hello\"\n",
    "b=\"world\"\n",
    "a = a + \" \" +  b \n",
    "a = a.replace(\"o\", \"O\")\n",
    "print(a)\n",
    "\n",
    "\n",
    "\n",
    "\n"
   ]
  },
  {
   "cell_type": "markdown",
   "metadata": {},
   "source": [
    "** ** \n",
    "** ** \n",
    "## 2. Variables\n",
    "\n",
    "Variables in Python are defined and get a data type at every assignment. You can ask for the type of a variable or a data by using the **type()** function."
   ]
  },
  {
   "cell_type": "code",
   "execution_count": 3,
   "metadata": {
    "scrolled": true
   },
   "outputs": [
    {
     "name": "stdout",
     "output_type": "stream",
     "text": [
      "10\n",
      "<class 'int'>\n"
     ]
    }
   ],
   "source": [
    "x=10\n",
    "print (x)\n",
    "print(type(x))\n"
   ]
  },
  {
   "cell_type": "code",
   "execution_count": 6,
   "metadata": {
    "scrolled": true
   },
   "outputs": [
    {
     "name": "stdout",
     "output_type": "stream",
     "text": [
      "the value of x= 10\n"
     ]
    },
    {
     "data": {
      "text/plain": [
       "int"
      ]
     },
     "execution_count": 6,
     "metadata": {},
     "output_type": "execute_result"
    }
   ],
   "source": [
    "x=10\n",
    "print (\"the value of x=\",x)\n",
    "type(x)"
   ]
  },
  {
   "cell_type": "markdown",
   "metadata": {},
   "source": [
    "Let us now declare again the variable **x**, and then change its type to be **string**, as shown below:\n",
    "\n",
    "Note that we can integrate the **type()** function directly into a **print** statement"
   ]
  },
  {
   "cell_type": "code",
   "execution_count": 13,
   "metadata": {
    "scrolled": true
   },
   "outputs": [
    {
     "name": "stdout",
     "output_type": "stream",
     "text": [
      "the type of x is  <class 'int'>\n",
      "let us change type of the variable x\n",
      "the value of x= I’m a string\n",
      "the type of x is  <class 'str'>\n"
     ]
    }
   ],
   "source": [
    "print(\"the type of x is \", type(x))\n",
    "print(\"let us change type of the variable x\")\n",
    "x=\"I’m a string\"\n",
    "print (\"the value of x=\",x)\n",
    "print (\"the type of x is \",type(x)) "
   ]
  },
  {
   "cell_type": "markdown",
   "metadata": {},
   "source": [
    "- How many ways are there to encode a string? search it yourself....\n",
    "\n",
    "- How do I get two items printed on the same line? \n",
    "\n",
    "- The main Python data types are: *integer, float, boolean, string*, ... and several composite Data Type as: list *list()*, set *set()*, tuple *tuple()*, dictionary *dict()*, *etc*.\n",
    "\n"
   ]
  },
  {
   "cell_type": "markdown",
   "metadata": {},
   "source": [
    "\n",
    "\n",
    "**Concatenation and type casting**: \n",
    "- define variables x (with initial value “The answer is”)\n",
    "and y (with initial value integer 42) and print \"The answer is 42\"\n",
    "\n",
    "- How would we get x to be of float type?"
   ]
  },
  {
   "cell_type": "code",
   "execution_count": 7,
   "metadata": {
    "scrolled": true
   },
   "outputs": [
    {
     "name": "stdout",
     "output_type": "stream",
     "text": [
      "The answer is 42\n"
     ]
    }
   ],
   "source": [
    "x=\"The answer is\"\n",
    "y=42\n",
    "print (x,y) # x and y are printed at the same line\n",
    "y=42.0 # by adding *.0* we define y a a float variable\n",
    "#type(y)\n",
    "\n",
    "\n"
   ]
  },
  {
   "cell_type": "markdown",
   "metadata": {},
   "source": [
    "**Type conversion**\n"
   ]
  },
  {
   "cell_type": "code",
   "execution_count": 8,
   "metadata": {
    "scrolled": true
   },
   "outputs": [
    {
     "data": {
      "text/plain": [
       "float"
      ]
     },
     "execution_count": 8,
     "metadata": {},
     "output_type": "execute_result"
    }
   ],
   "source": [
    "\n",
    "yy=\"4.2\"\n",
    "c = float(yy)\n",
    "type(c)"
   ]
  },
  {
   "cell_type": "markdown",
   "metadata": {},
   "source": [
    "**Type conversion**: let us define x=12 (x is an integer variable) and y=\"34\" (y is a string variable). You can notice when running the next code that we cannot perform an **addition** operation with a string variable. To do so, we need to convert the type of y into an integer, i.e. **using explicit conversion**"
   ]
  },
  {
   "cell_type": "code",
   "execution_count": 15,
   "metadata": {
    "scrolled": true
   },
   "outputs": [
    {
     "name": "stdout",
     "output_type": "stream",
     "text": [
      "the addition of x and y =  46\n"
     ]
    }
   ],
   "source": [
    "x=12\n",
    "y=\"34\"\n",
    "#print(x+y)## we cannot do the addition with a string variable, try to run this line and see error\n",
    "y = int(y) # explicit conversion of the type of y variable into int\n",
    "print(\"the addition of x and y = \",x+y) # now we can perform the addition correclty"
   ]
  },
  {
   "cell_type": "markdown",
   "metadata": {},
   "source": [
    "** ** \n",
    "** ** \n",
    "## 3. Flow control statements\n",
    "***\n",
    "**In Python, a Flow control statement is a block of code that is not delimited by braces { } (contrary to some  other programming languages) but by only indentation. Be careful to use the same number of spaces for every indent, otherwise you program will go bananas.**\n",
    "***"
   ]
  },
  {
   "cell_type": "markdown",
   "metadata": {},
   "source": [
    "There are three control structures you will be using all the time: if, while, for.. \n",
    "\n",
    "Note that a character string also behaves like a list. "
   ]
  },
  {
   "cell_type": "code",
   "execution_count": 16,
   "metadata": {
    "scrolled": true
   },
   "outputs": [
    {
     "name": "stdout",
     "output_type": "stream",
     "text": [
      "##### if statement test#####\n",
      "x has a positive value! \n",
      "\n",
      "##### while statement test#####\n",
      "4 , 3 , 2 , 1 , 0\n",
      "\n"
     ]
    }
   ],
   "source": [
    "print(\"##### if statement test#####\")\n",
    "x=5\n",
    "if (x > 0):\n",
    "   x=x+1\n",
    "   print(\"x has a positive value! \\n\")\n",
    "elif (x == 0):\n",
    "   x = 42\n",
    "else:\n",
    "   print(\"That's a negative value! \\n\")\n",
    "\n",
    "\n",
    "\n",
    "########################\n",
    "print(\"##### while statement test#####\")\n",
    "x=5\n",
    "while (x > 0):\n",
    "   x=x-1\n",
    "   print(x,end='')\n",
    "   if(x > 0): print(\" , \",end='')\n",
    "print(\"\\n\")\n",
    "\n"
   ]
  },
  {
   "cell_type": "code",
   "execution_count": 9,
   "metadata": {
    "scrolled": true
   },
   "outputs": [
    {
     "name": "stdout",
     "output_type": "stream",
     "text": [
      "##### for statement test#####\n",
      "You are my number 1\n",
      "You are my number 2\n",
      "You are my number 3\n",
      "##### for statement test#####\n",
      "word is cat\n",
      "word is window\n",
      "word is door\n"
     ]
    }
   ],
   "source": [
    "\n",
    "print(\"##### for statement test#####\")\n",
    "for x in [1, 2, 3]:\n",
    "   print (\"You are my number \" +str(x) )  ##+str(x)\n",
    "\n",
    "\n",
    "########################\n",
    "print(\"##### for statement test#####\")\n",
    "words = ['cat', 'window', 'door']\n",
    "for w in words:\n",
    "   print (\"word is \"+w)\n",
    "\n",
    "\n"
   ]
  },
  {
   "cell_type": "markdown",
   "metadata": {},
   "source": [
    "A character string also behaves like a list. \n",
    "For a string (list) that contains *n* characters, indexes of its characters go from *0* to *n-1*.\n",
    "\n",
    "If *x* is a list or a tuple, you can access its *i-th* value by *X[ i ]*. You can also get the sub-list (sub-tuple) of values between *i* and *j−1* by *X[ i : j ]* (the right boundary is not included!). \n",
    "\n",
    "By omitting *i* or *j* you reach the lists’s (tuple’s) boundaries."
   ]
  },
  {
   "cell_type": "code",
   "execution_count": 18,
   "metadata": {
    "scrolled": true
   },
   "outputs": [
    {
     "name": "stdout",
     "output_type": "stream",
     "text": [
      "##### for statement test#####\n",
      "b\n",
      "a\n",
      "n\n",
      "a\n",
      "n\n",
      "a\n",
      "\n",
      "\n",
      "\n",
      "i\n",
      "amin\n",
      "amine\n",
      "vitamin\n"
     ]
    }
   ],
   "source": [
    "\n",
    "########################\n",
    "print(\"##### for statement test#####\")\n",
    "for x in \"banana\":\n",
    "  print(x)\n",
    "print(\"\\n\\n\")\n",
    "\n",
    "x=\"vitamine\"\n",
    "print(x[1])\n",
    "print (x[3:7])\n",
    "print (x[3:])\n",
    "print (x[:7])"
   ]
  },
  {
   "cell_type": "markdown",
   "metadata": {},
   "source": [
    "### **Range function**: \n",
    "The range function provides a range of integers. Let us write a program that adds up all integers between 1 and 10000 (included).\n",
    "\n",
    "*Notice that* : **for w in range(n)** will go over values from *0* to *n-1*"
   ]
  },
  {
   "cell_type": "code",
   "execution_count": 19,
   "metadata": {
    "scrolled": true
   },
   "outputs": [
    {
     "name": "stdout",
     "output_type": "stream",
     "text": [
      "0\n",
      "1\n",
      "2\n",
      "3\n",
      "4\n",
      "5\n"
     ]
    }
   ],
   "source": [
    "\n",
    "## a first try to print values from 0 to 5\n",
    "for x in range(6):\n",
    "  print(x)\n"
   ]
  },
  {
   "cell_type": "code",
   "execution_count": 20,
   "metadata": {
    "scrolled": true
   },
   "outputs": [
    {
     "name": "stdout",
     "output_type": "stream",
     "text": [
      "one of the ways to do it\n",
      "1\n",
      "2\n",
      "3\n",
      "4\n",
      "5\n",
      "6\n",
      "7\n",
      "8\n",
      "9\n",
      "10\n",
      "another way to do it\n",
      "1   2   3   4   5   6   7   8   9   10   \n",
      "\n"
     ]
    }
   ],
   "source": [
    "\n",
    "## let us use range function to print values from 1 to 10\n",
    "print(\"one of the ways to do it\")\n",
    "for x in range(1, 11):\n",
    "  print(x)\n",
    "\n",
    "print(\"another way to do it\")\n",
    "n=10\n",
    "for x in range(1, n+1):\n",
    "  print(x, \"  \",end='') ## here we add a space between numbers, and we do not print a newline after each print\n",
    "\n",
    "print(\"\\n\")## print new line"
   ]
  },
  {
   "cell_type": "markdown",
   "metadata": {},
   "source": [
    "** ** \n",
    "** ** \n",
    "## 4. Lists\n",
    "- Lists are written as values separated by commas and enclosed in brackets: [1,2,3]. \n",
    "- You can add an individual value to the end of a list by using the *append* method : *[1,2,3].append(4)*\n",
    "- You can merge lists by using the concatenation operator +.\n",
    "\n",
    "Let us write a Python program to find all prime numbers less than *30* by using the Eratosthenes\n",
    "sieve method: https://en.wikipedia.org/wiki/Sieve_of_Eratosthenes \n",
    "\n",
    "You an find juste below, a step-by-step running example to find prime numbers till 30.\n",
    "\n",
    "\n",
    "\n",
    "<img src=\"files/Sieve-of-Eratosthenes.png\">"
   ]
  },
  {
   "cell_type": "code",
   "execution_count": 21,
   "metadata": {
    "scrolled": true
   },
   "outputs": [
    {
     "name": "stdout",
     "output_type": "stream",
     "text": [
      "prime =  2\n",
      "prime =  3\n",
      "prime =  5\n",
      "prime =  7\n",
      "prime =  11\n",
      "prime =  13\n",
      "prime =  17\n",
      "prime =  19\n",
      "prime =  23\n",
      "prime =  29\n",
      "None\n"
     ]
    }
   ],
   "source": [
    "## notice that here we have defined a function to be used later : def\n",
    "\n",
    "\n",
    "def prime_eratosthenes(n):\n",
    "    prime_list = []\n",
    "    for i in range(2, n+1):\n",
    "        if i not in prime_list:\n",
    "            print (\"prime = \",i)\n",
    "            for j in range(i*i, n+1, i):\n",
    "                #print(j)\n",
    "                prime_list.append(j)\n",
    "                \n",
    "\n",
    "print(prime_eratosthenes(30));\n"
   ]
  },
  {
   "cell_type": "markdown",
   "metadata": {},
   "source": [
    "** ** \n",
    "** ** \n",
    "## 5. Functions\n",
    "Functions are defined by using **def** keyword and placing a pair of parentheses after the name of\n",
    "the function, with arguments. \n",
    "\n",
    "Let us write a simple function that multiplies the passed argument *x* with *2*"
   ]
  },
  {
   "cell_type": "code",
   "execution_count": 22,
   "metadata": {
    "scrolled": true
   },
   "outputs": [
    {
     "name": "stdout",
     "output_type": "stream",
     "text": [
      "30 muliplied by two =  60\n"
     ]
    }
   ],
   "source": [
    "def multiply_by_two(x):\n",
    "   return 2 * x\n",
    "\n",
    "print(\"30 muliplied by two = \", multiply_by_two(30))\n"
   ]
  },
  {
   "cell_type": "markdown",
   "metadata": {},
   "source": [
    "Let us write a function to calculate factorials. Print the factorial of *100* : *100!*\n"
   ]
  },
  {
   "cell_type": "code",
   "execution_count": 23,
   "metadata": {
    "scrolled": true
   },
   "outputs": [
    {
     "name": "stdout",
     "output_type": "stream",
     "text": [
      "The factorial of 3 is =  6\n",
      "\n",
      "\n",
      "The factorial of 100 is =  93326215443944152681699238856266700490715968264381621468592963895217599993229915608941463976156518286253697920827223758251185210916864000000000000000000000000\n"
     ]
    }
   ],
   "source": [
    "def factorial(n): \n",
    "    fact = 1 # init the variable with a value = 1\n",
    "    for i in range(1,n+1): ## for each value from 1 to n\n",
    "        fact = fact * i ## multiplie the  value with the fact variable\n",
    "    return fact\n",
    "\n",
    "print (\"The factorial of 3 is = \",factorial(3))\n",
    "print(\"\\n\")\n",
    "print (\"The factorial of 100 is = \",factorial(100)) \n"
   ]
  },
  {
   "cell_type": "markdown",
   "metadata": {},
   "source": [
    "** ** \n",
    "** ** \n",
    "## 6. Classes\n",
    "Classes are defined by using *class* keyword. \n",
    "\n",
    "Let us create a class named *Person*, with two property named : *name*  and *age*\n",
    "\n",
    "Let us then create a new person : an object of the class *Person* with value of its both properties\n"
   ]
  },
  {
   "cell_type": "code",
   "execution_count": 24,
   "metadata": {
    "scrolled": true
   },
   "outputs": [
    {
     "name": "stdout",
     "output_type": "stream",
     "text": [
      "the name is :  John ,  the age is :  30\n"
     ]
    }
   ],
   "source": [
    "class Person: ## here we create the class\n",
    "  name = \"John\"\n",
    "  age= 30\n",
    "\n",
    "\n",
    "p1 = Person() ## create one object of the class \n",
    "print(\"the name is : \",p1.name, \",  the age is : \", p1.age)"
   ]
  },
  {
   "cell_type": "markdown",
   "metadata": {},
   "source": [
    "### The __init__() Function\n",
    "The examples above are classes and objects in their simplest form, and are not really useful in real life applications.\n",
    "\n",
    "To understand the meaning of classes we have to understand the built-in __init__() function.\n",
    "\n",
    "All classes have a function called __init__(), which is always executed when the class is being initiated.\n",
    "\n",
    "\n",
    "Use the __init__() function to assign values to object properties, or other operations that are necessary to do when the object is being created.\n",
    "\n",
    "\n",
    "Next, let us create a class named *Person*, use the __init__() function to assign values for *name* and *age*:\n",
    "\n",
    "\n",
    "Note that the self variable represents the instance of the object itself. Most object-oriented languages pass this as a hidden parameter to the methods defined on an object; Python does not. \n",
    "\n"
   ]
  },
  {
   "cell_type": "code",
   "execution_count": 25,
   "metadata": {
    "scrolled": true
   },
   "outputs": [
    {
     "name": "stdout",
     "output_type": "stream",
     "text": [
      "the name is :  John ,  the age is :  30\n",
      "the name is :  Mike ,  the age is :  25\n",
      "the name is :  Mary ,  the age is :  20\n"
     ]
    }
   ],
   "source": [
    "class Person:\n",
    "  def __init__(self, name, age): ## self represents the instance of the object of the class itself\n",
    "    self.name = name\n",
    "    self.age = age\n",
    "\n",
    "    \n",
    "p1 = Person(\"John\", 30)\n",
    "print(\"the name is : \",p1.name, \",  the age is : \", p1.age)\n",
    "\n",
    "p1 = Person(\"Mike\", 25)\n",
    "print(\"the name is : \",p1.name, \",  the age is : \", p1.age)\n",
    "\n",
    "p1 = Person(\"Mary\", 20)\n",
    "print(\"the name is : \",p1.name, \",  the age is : \", p1.age)\n",
    "\n"
   ]
  },
  {
   "cell_type": "markdown",
   "metadata": {},
   "source": [
    "** ** \n",
    "** ** \n",
    "## 6. Dictionaries\n",
    "Dictionaries are used to store data values in *key:value* pairs.\n",
    "- A dictionary is a collection which is ordered, changeable and does not allow duplicates. As of Python version 3.7, dictionaries are ordered (In Python 3.6 and earlier, dictionaries are unordered)\n",
    "- Dictionary **items** are ordered, changeable, and does not allow duplicates. Dictionary items are presented in *key:value* pairs, and can be referred to by using the key name.\n",
    "- To determine how many items a dictionary has, use the *len()* function\n",
    "- The values in dictionary items can be of any data type\n",
    "- To Get Keys: The *keys()* method will return a list of all the keys in the dictionary\n",
    "- To Get Values : The *values()* method will return a list of all the values in the dictionary.\n",
    "\n",
    "Let us see how to code this: \n"
   ]
  },
  {
   "cell_type": "code",
   "execution_count": 26,
   "metadata": {
    "scrolled": true
   },
   "outputs": [
    {
     "name": "stdout",
     "output_type": "stream",
     "text": [
      "The whole dictionary is :  {'brand': 'Ford', 'model': 'Mustang', 'year': 1964}\n",
      "Print only the value for which the key is 'brand' :  Ford\n",
      "The length of this dictionary is =  3\n",
      "dict_keys(['brand', 'model', 'year'])\n",
      "dict_keys(['brand', 'model', 'year', 'colors'])\n",
      "dict_values(['Ford', 'Mustang', 1964, ['red', 'white', 'blue']])\n"
     ]
    }
   ],
   "source": [
    "## we create a dictionnary car, with 3 keys : brand, model, year\n",
    "car = {\n",
    "  \"brand\": \"Ford\",\n",
    "  \"model\": \"Mustang\",\n",
    "  \"year\": 1964\n",
    "  #\"colors\": [\"red\", \"white\", \"blue\"]\n",
    "}\n",
    "print(\"The whole dictionary is : \",car)\n",
    "print(\"Print only the value for which the key is 'brand' : \",car[\"brand\"])\n",
    "print(\"The length of this dictionary is = \",len(car))\n",
    "\n",
    "k = car.keys()\n",
    "print(k)\n",
    "type(k)\n",
    "\n",
    "##Add a new item to the original dictionary, and see that the keys list gets updated as well:\n",
    "car[\"colors\"] = [\"red\", \"white\", \"blue\"]\n",
    "print(k) #after the change\n",
    "\n",
    "\n",
    "## get values\n",
    "v = car.values()\n",
    "print(v)"
   ]
  },
  {
   "cell_type": "markdown",
   "metadata": {},
   "source": [
    "**Exercise**: Write a program that will count frequencies of letters (chars) in the sentence “supercalifragilisticex- pialidocious”."
   ]
  },
  {
   "cell_type": "code",
   "execution_count": 27,
   "metadata": {
    "scrolled": true
   },
   "outputs": [
    {
     "name": "stdout",
     "output_type": "stream",
     "text": [
      "{'s': 3, 'u': 2, 'p': 2, 'e': 2, 'r': 2, 'c': 3, 'a': 3, 'l': 3, 'i': 7, 'f': 1, 'g': 1, 't': 1, 'x': 1, '-': 1, ' ': 1, 'd': 1, 'o': 2}\n"
     ]
    }
   ],
   "source": [
    "def chars_frequency(sentence):\n",
    " ## initialize a dictionary: a key repesents a char, a corresponding value represents the frequency   \n",
    "    dict = {} \n",
    "    for ch in sentence:  ## for each char in the sentence\n",
    "        keys = dict.keys()# get all existing/current keys\n",
    "        if ch in keys:   # check if the current char exists already in the current keys\n",
    "            dict[ch] += 1 ## if yes, increment its values i.e. its frequency\n",
    "        else:\n",
    "            dict[ch] = 1   ## otherwise, put its values i.e. its frequency = 1, the key will be added automatically\n",
    "    return dict\n",
    "\n",
    "sentence = \"supercalifragilisticex- pialidocious\"\n",
    "print(chars_frequency(sentence))"
   ]
  },
  {
   "cell_type": "markdown",
   "metadata": {},
   "source": [
    "** ** \n",
    "** ** \n",
    "## 7. List Comprehension\n",
    "\n",
    "List comprehension offers a shorter syntax when you want to create a new list based on the values of an existing list.\n",
    "***\n",
    "newlist = [expression $\\color{blue}{for}$ item $\\color{blue}{in}$ iterable $\\color{blue}{if}$ condition == $\\color{blue}{True}$]\n",
    "***\n",
    "\n",
    "Example: Based on a list of fruits, we would like now a new list, containing only the fruits with the letter \"a\" in the name. Note that without list comprehension you will have to write a for statement with a conditional test inside.\n",
    "\n",
    "Let us see how to code this with list Comprehension : \n"
   ]
  },
  {
   "cell_type": "code",
   "execution_count": 28,
   "metadata": {
    "scrolled": true
   },
   "outputs": [
    {
     "name": "stdout",
     "output_type": "stream",
     "text": [
      "['apple', 'banana', 'mango']\n"
     ]
    }
   ],
   "source": [
    "fruits = [\"apple\", \"banana\", \"cherry\", \"kiwi\", \"mango\"]\n",
    "\n",
    "newlist = [x for x in fruits if \"a\" in x]\n",
    "\n",
    "print(newlist)"
   ]
  },
  {
   "cell_type": "markdown",
   "metadata": {},
   "source": [
    "**Exercise**: Let us suppose that we have a dictionary *months_dict_en_fr*, where keys are month names in English and values are month names in French. Write : \n",
    "- Question 1: a list comprehension which will use only the dictionary data to get  the month names in french, in the right order,\n",
    "- Question 2: modify it so that it show only months the English name of which contains an *a*,\n",
    "- Question 3: modify it so that it produces the month names as in *Question 2* but preceded by the month number (from 1 to 12) like this: 1. janvier, 2. février, etc. (hint: use the index() method).\n"
   ]
  },
  {
   "cell_type": "code",
   "execution_count": 29,
   "metadata": {
    "scrolled": true
   },
   "outputs": [
    {
     "name": "stdout",
     "output_type": "stream",
     "text": [
      "dict_keys(['January', 'February', 'March', 'April', 'May', 'June', 'July', 'August', 'September', 'October', 'November', 'December'])\n",
      "dict_values(['Janvier', 'Février', 'Mars', 'Avril', 'Mai', 'Juin', 'Juillet', 'Août', 'Septembre', 'Octobre', 'Novembre', 'Decembre']) \n",
      "\n",
      "Question 1 : months in french : \n",
      " ['Janvier', 'Février', 'Mars', 'Avril', 'Mai', 'Juin', 'Juillet', 'Août', 'Septembre', 'Octobre', 'Novembre', 'Decembre']\n",
      "\n",
      "\n",
      "Question 2 : months in french for which english name contains 'a'  : \n",
      " ['Janvier', 'Février', 'Mars', 'Avril', 'Mai', 'Août']\n",
      "\n",
      "\n",
      "Question 3 : months in french for which english name contains 'a' and print index  : \n",
      " [[1, 'Janvier'], [2, 'Février'], [3, 'Mars'], [4, 'Avril'], [5, 'Mai'], [8, 'Août']]\n"
     ]
    }
   ],
   "source": [
    "months_en = [\"January\", \"February\", \"March\", \"April\", \"May\", \"June\", \"July\", \"August\", \"September\",\"October\",\"November\",\"December\"]\n",
    "months_fr = [\"Janvier\", \"Février\", \"Mars\", \"Avril\", \"Mai\", \"Juin\", \"Juillet\", \"Août\", \"Septembre\",\"Octobre\",\"Novembre\",\"Decembre\"]\n",
    "\n",
    "\n",
    "months_dict_en_fr = {}\n",
    "\n",
    "months_dict_en_fr = dict(zip(months_en, months_fr))## put previous listes in keys, values of dictionary\n",
    "## another way to do it using dictionary comprehension and zip method ## \n",
    "# zip method : Make an iterator that aggregates elements from each of the iterables\n",
    "#months_dict_en_fr = {key: value for key, value in zip(months_en, months_fr)}\n",
    "\n",
    "\n",
    "print(months_dict_en_fr.keys())\n",
    "print(months_dict_en_fr.values(),\"\\n\")\n",
    "\n",
    "\n",
    "\n",
    "## Question 1 ##\n",
    "months_fr = [x for x in months_dict_en_fr.values()]\n",
    "print(\"Question 1 : months in french : \\n\",months_fr)\n",
    "print(\"\\n\")\n",
    "\n",
    "\n",
    "## Question 2 ##\n",
    "months_fr_with_a = [x for k,x in zip(months_dict_en_fr.keys(),months_dict_en_fr.values())   if \"a\" in k or \"A\" in k]\n",
    "## notice that it is case sensitive\n",
    "print(\"Question 2 : months in french for which english name contains 'a'  : \\n\",months_fr_with_a)\n",
    "print(\"\\n\")\n",
    "\n",
    "\n",
    "\n",
    "\n",
    "## Question 3 ##\n",
    "temp = list(months_dict_en_fr.items())   # get items of the dictionary as a list of listes, then use enumerate\n",
    "##print(temp)\n",
    "months_fr_index = [[idx+1,key[1]] for idx, key in enumerate(temp) if \"a\" in key[0] or \"A\" in key[0]] \n",
    "print(\"Question 3 : months in french for which english name contains 'a' and print index  : \\n\" , months_fr_index)"
   ]
  },
  {
   "cell_type": "markdown",
   "metadata": {},
   "source": [
    "** ** \n",
    "** ** \n",
    "## 8. Files access\n",
    "To read from an external file use the following code:\n",
    "***\n",
    "f = open(\"path/to/your/file\",\"r\")\n",
    "\n",
    "for line in f:\n",
    "\n",
    "      do something with that line\n",
    "      \n",
    "f.close()\n",
    "***\n",
    "\n",
    "For writing use ”w” instead of ”r”. There is also an ”a” mode (*append*).\n",
    "\n",
    "It is a good practice to always close the file when you are done with it, using *close()* function\n",
    "\n",
    "Exercise: let us read the file located in *\"files/read_files_in_python.txt\"*\n",
    "- Question 1: read the file\n",
    "- Question 2: read all lines in the inverse order (last line first, first line last)\n",
    "- Question 3: read lines inverted (last character first, first character last)."
   ]
  },
  {
   "cell_type": "code",
   "execution_count": 30,
   "metadata": {
    "scrolled": true
   },
   "outputs": [
    {
     "name": "stdout",
     "output_type": "stream",
     "text": [
      "------------------start reading------------------\n",
      "This is a text file\n",
      "\n",
      "To open the file, use the built-in open() function. Don to forget to close the file using close(function)\n",
      "\n",
      "You can return one line by using the readline() method\n",
      "\n",
      "------------------end reading------------------\n",
      " \n",
      "\n",
      "------------------start reverse reading------------------\n",
      "You can return one line by using the readline() method\n",
      "\n",
      "To open the file, use the built-in open() function. Don to forget to close the file using close(function)\n",
      "\n",
      "This is a text file\n",
      "\n",
      "------------------end reverse reading------------------\n",
      " \n",
      "\n",
      "\n",
      "elif txet a si sihT\n",
      "\n",
      ")noitcnuf(esolc gnisu elif eht esolc ot tegrof ot noD .noitcnuf )(nepo ni-tliub eht esu ,elif eht nepo oT\n",
      "\n",
      "dohtem )(enildaer eht gnisu yb enil eno nruter nac uoY\n"
     ]
    }
   ],
   "source": [
    "## Question 1 ##\n",
    "my_file = open(\"files/read_files_in_python.txt\", \"r\")\n",
    "print(\"------------------start reading------------------\")\n",
    "for x in my_file:\n",
    "  print(x)\n",
    "print(\"------------------end reading------------------\\n \\n\")\n",
    "\n",
    "## Question 2 ##\n",
    "## to read the file from the beginning, you can either close/repoen it, or use seek(0) to move the cursor to the beginning of the file the following way:\n",
    "my_file.seek(0) ## \n",
    "lines = my_file.readlines()\n",
    "print(\"------------------start reverse reading------------------\")\n",
    "for line in reversed(lines):\n",
    "    print(line)\n",
    "print(\"------------------end reverse reading------------------\\n \\n\")\n",
    "\n",
    "## Question 3 ##\n",
    "my_file.seek(0) \n",
    "lines = my_file.readlines()\n",
    "for line in lines:\n",
    "    print(line[::-1]) ## line is a string : Create a slice that starts at the end of the string, and moves backwards.\n",
    "    #In this particular example, the slice statement [::-1] means start at the end of the string and end at position 0, move with the step -1, negative one, which means one step backwards.\n",
    "\n",
    "my_file.close()    "
   ]
  },
  {
   "cell_type": "markdown",
   "metadata": {},
   "source": []
  },
  {
   "cell_type": "markdown",
   "metadata": {},
   "source": [
    "** ** \n",
    "** ** \n",
    "## Sort lists\n",
    "The *sorted()* function returns a sorted list from the items in an iterable.\n",
    "\n",
    "The sorted() function sorts the elements of a given iterable in a specific order (either ascending or descending) and returns the sorted iterable as a list.\n",
    "\n",
    "The syntax of the sorted() function is:\n",
    "***\n",
    "sorted(iterable, key=None, reverse=False)\n",
    "***\n",
    "sorted() can take a maximum of three parameters:\n",
    "\n",
    "- iterable - A sequence (string, tuple, list) or collection (set, dictionary, frozen set) or any other iterator.\n",
    "- key (Optional) - A function that serves as a key for the sort comparison. Defaults to None\n",
    "- reverse (Optional) - If True, the sorted list is reversed (or sorted in descending order). Defaults to False if not provided.\n",
    "\n",
    "**Exercise**: let us creat a nested list (i.e. a list of lists) of students : each list contains the name and the age of a student. Let us order this list according to the names of students, in a descneding order. \n",
    "\n",
    "Note that, by default, the sorted function will use the first element in the tuple as a sorting key. "
   ]
  },
  {
   "cell_type": "code",
   "execution_count": 31,
   "metadata": {
    "scrolled": true
   },
   "outputs": [
    {
     "name": "stdout",
     "output_type": "stream",
     "text": [
      "[('Terence', 20), ('John', 24), ('Jimmy', 18), ('David', 21), ('Alison', 19)]\n"
     ]
    }
   ],
   "source": [
    "# List elements: (Student's Name,  Age)\n",
    "participant_list = [\n",
    "    ('Alison', 19),\n",
    "    ('Terence', 20),\n",
    "    ('David',  21),\n",
    "    ('Jimmy',  18),\n",
    "    ('John',  24)\n",
    "]\n",
    "\n",
    "sorted_list = sorted(participant_list, reverse= True)\n",
    "print(sorted_list)"
   ]
  },
  {
   "cell_type": "markdown",
   "metadata": {},
   "source": [
    "** ** \n",
    "** ** \n",
    "\n",
    "\n",
    "### Key Function\n",
    "Sorted() have a key parameter to specify a function (or other callable) to be called on each list element prior to making comparisons.\n",
    "\n",
    "The value of the key parameter should be a function (or other callable) that takes a single argument and returns a key to use for sorting purposes. This technique is fast because the key function is called exactly once for each input record.\n",
    "\n",
    "A common pattern is to sort complex objects using some of the object’s indices as keys. As in the exampel below.\n",
    "\n",
    "### Lambda functions\n",
    "Lambda functions - what are they?\n",
    "\n",
    "First we need to understand what a lambda is. A really simple concept with a fancy name, lambda functions or simply lambdas are a syntactic sugar in Python.\n",
    "\n",
    "The lambda keyword allows us to declare small, anonymous, single-line functions, taking one or more parameters and returning a value of an expression.\n",
    "\n",
    "Lambdas really useful when we need to supply a simple function as a parameter to another function, such as supplying a function as a key parameter to sorted."
   ]
  },
  {
   "cell_type": "markdown",
   "metadata": {},
   "source": [
    "**Exercise**: let us now read the previous file *read_files_in_python.txt*, put its lines  in a dictionary, then order lines according to their length (number of chars) in a descneding order (longer first)"
   ]
  },
  {
   "cell_type": "code",
   "execution_count": 32,
   "metadata": {
    "scrolled": true
   },
   "outputs": [
    {
     "name": "stdout",
     "output_type": "stream",
     "text": [
      "------------------start reading------------------\n",
      "This is a text file\n",
      "\n",
      "To open the file, use the built-in open() function. Don to forget to close the file using close(function)\n",
      "\n",
      "You can return one line by using the readline() method\n",
      "\n",
      "------------------end reading------------------\n",
      " \n",
      "\n",
      "------------------start reading------------------\n",
      "length of line :  0   =  20   chars\n",
      "length of line :  1   =  106   chars\n",
      "length of line :  2   =  55   chars\n",
      "------------------end reading------------------\n",
      " \n",
      "\n",
      "{0: 'This is a text file\\n', 1: 'To open the file, use the built-in open() function. Don to forget to close the file using close(function)\\n', 2: 'You can return one line by using the readline() method\\n'}\n",
      "sorted :  [(1, 'To open the file, use the built-in open() function. Don to forget to close the file using close(function)\\n'), (2, 'You can return one line by using the readline() method\\n'), (0, 'This is a text file\\n')]\n"
     ]
    }
   ],
   "source": [
    "my_file = open(\"files/read_files_in_python.txt\", \"r\")\n",
    "### reading the file\n",
    "print(\"------------------start reading------------------\")\n",
    "for x in my_file:\n",
    "  print(x)\n",
    "print(\"------------------end reading------------------\\n \\n\")\n",
    "\n",
    "my_file.seek(0) ## \n",
    "## redeading the file and put lines as values in a dictionary, print also the length of lines\n",
    "print(\"------------------start reading------------------\")\n",
    "lines_as_dic = {}\n",
    "i=0\n",
    "for line in my_file:\n",
    "  lines_as_dic[i]=line\n",
    "  print(\"length of line : \", i , \"  = \", len(lines_as_dic[i]), \"  chars\")\n",
    "  i=i+1\n",
    "print(\"------------------end reading------------------\\n \\n\")\n",
    "print((lines_as_dic))\n",
    "\n",
    "## we will now order the dictioanry according to the length of lines in inverse order (longest lines first)\n",
    "sorted_dict = sorted(lines_as_dic.items(), reverse= True, key=lambda x: len(x[1]))\n",
    "print(\"sorted : \",sorted_dict)\n",
    "\n",
    "my_file.close()     "
   ]
  },
  {
   "cell_type": "markdown",
   "metadata": {},
   "source": [
    "** ** \n",
    "** ** \n",
    "## Memory managment\n",
    "\n",
    "Unlike in other programming languages , in python whenever a variable is assigned a value , the python memory manager will check if an object with that value is already available in the memory . If object is already present in memory , then this variable points to that object instead of creating a new object with the same value.\n",
    "For more details, read these articles :\n",
    "- https://www.analyticsvidhya.com/blog/2021/04/an-overview-of-python-memory-management/\n",
    "- https://www.geeksforgeeks.org/memory-management-in-python/\n",
    "- https://medium.com/analytics-vidhya/python-memory-management-8854f4952ba0\n",
    "\n",
    "Keep in mind, you do not have a control on memory management in Python..All python objects are stored in a private heap, and this heap is managed in such a way that you have zero control over it.  \n",
    "\n",
    "**You have just to keep in mind this aspect of memory management  for more advanced cases, when you use real classes and more advanced data types..**\n",
    "\n",
    "\n",
    "\n",
    "exercise: Knowing that *id( )* returns the memory address of a value, what happens when we execute the following code, which addresses are different and why?\n"
   ]
  },
  {
   "cell_type": "code",
   "execution_count": 33,
   "metadata": {
    "scrolled": true
   },
   "outputs": [
    {
     "name": "stdout",
     "output_type": "stream",
     "text": [
      "4368902496    1\n",
      "4368902528    2\n",
      "4368902496    1\n",
      "\n",
      "\n",
      "4368902528    2\n",
      "4368902528    2\n"
     ]
    }
   ],
   "source": [
    "x=1\n",
    "print (id(x),\"  \", x)\n",
    "\n",
    "x+=1\n",
    "print (id(x),\"  \", x)\n",
    "\n",
    "x-=1\n",
    "print (id(x),\"  \", x)\n",
    "\n",
    "print (\"\\n\")\n",
    "\n",
    "x=x+1\n",
    "print (id(x), \"  \", x)\n",
    "\n",
    "y=x\n",
    "print (id(y),\"  \", y)\n",
    "\n"
   ]
  },
  {
   "cell_type": "markdown",
   "metadata": {},
   "source": [
    "What do you expect from the following code and what really happens?"
   ]
  },
  {
   "cell_type": "code",
   "execution_count": 34,
   "metadata": {
    "scrolled": false
   },
   "outputs": [
    {
     "name": "stdout",
     "output_type": "stream",
     "text": [
      "140455286628416    [1, 2, 2]\n",
      "140455286628416    [1, 2, 2]\n",
      "140455286524096    [1, 2, 3]\n",
      "4368902624    5\n",
      "4368902528    2\n",
      " \n",
      " \n",
      "4368902528    2\n",
      "4368902528    2\n",
      "4368902624    5\n"
     ]
    }
   ],
   "source": [
    "list_1=[1,2,3]\n",
    "list_2=list_1\n",
    "list_3=list_2[:]\n",
    "list_1[2]=2\n",
    "print (id(list_1),\"  \" ,list_1)\n",
    "print (id(list_2),\"  \" ,list_2)\n",
    "print (id(list_3),\"  \" ,list_3)\n",
    "\n",
    "x = 2\n",
    "y = x \n",
    "x= x+ 3\n",
    "\n",
    "print (id(x),\"  \" ,x)\n",
    "print (id(y),\"  \" ,y)\n",
    "\n",
    "print (\" \\n \")\n",
    "\n",
    "x= 2\n",
    "print (id(x),\"  \" ,x)\n",
    "y = 2\n",
    "print (id(y),\"  \" ,y)\n",
    "x = 5\n",
    "\n",
    "print (id(x),\"  \" ,x)\n"
   ]
  },
  {
   "cell_type": "markdown",
   "metadata": {},
   "source": [
    "** ** \n",
    "** ** \n",
    "Note that there is a range of values from -5 to 256 where Python does assign the same address, but above that (257) it starts allocating as different objects (https://stackoverflow.com/a/15172182/8733066)\n",
    "If you would like to go farther, you can test this \n",
    "\n",
    "<img src=\"files/advanced-memory-management.png\">\n"
   ]
  }
 ],
 "metadata": {
  "kernelspec": {
   "display_name": "Python 3",
   "language": "python",
   "name": "python3"
  },
  "language_info": {
   "codemirror_mode": {
    "name": "ipython",
    "version": 3
   },
   "file_extension": ".py",
   "mimetype": "text/x-python",
   "name": "python",
   "nbconvert_exporter": "python",
   "pygments_lexer": "ipython3",
   "version": "3.8.5"
  }
 },
 "nbformat": 4,
 "nbformat_minor": 4
}
