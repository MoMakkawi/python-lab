{
 "cells": [
  {
   "cell_type": "markdown",
   "metadata": {},
   "source": [
    "# <center>MSC-INF101E – Practical 2: Regular Expressions under Python\n",
    "## <center>Professors: Lina Fahed, Virgil Hamici-Aubert\n",
    " ## <center> \n",
    "    \n",
    "    \n",
    "Very useful examples can be found here:\n",
    "* https://www.w3schools.com/python/python_regex.asp   \n",
    "* https://docs.python.org/3/library/re.html"
   ]
  },
  {
   "cell_type": "markdown",
   "metadata": {},
   "source": [
    "Learning regular expressions (regex) in Python is important for several reasons:\n",
    "1.    String Manipulation and Validation: Regular expressions provide a powerful way to manipulate and validate strings. They allow you to search, match, replace, and extract specific patterns from text, which is essential for tasks like data cleaning and validation.\n",
    "2.    Text Processing and Analysis: When working with textual data, regex is invaluable for extracting meaningful information. Whether it’s parsing log files, extracting data from HTML or XML, or analyzing large text corpora, regex enables efficient and precise text processing.\n",
    "3.    Pattern Matching: Regular expressions offer a concise and expressive syntax for defining patterns in strings. This is particularly useful when searching for specific patterns or validating input formats, such as email addresses, phone numbers, or URLs.\n",
    "4.    Scripting and Automation: In scripting tasks, regex can streamline data processing. For example, you can use regex to identify and modify specific patterns within files or automate text-based tasks efficiently.\n",
    "5.    Data Extraction from Web Scraping: When extracting data from web pages, regular expressions are often used to locate and extract specific content. While caution is needed for complex HTML parsing, regex can be effective for simpler cases.\n",
    "6.    Data Cleaning and Transformation: Regular expressions are powerful tools for cleaning and transforming data. They allow you to find and replace specific patterns, making data more consistent and suitable for analysis.\n",
    "7.    Code Parsing and Analysis: In programming, regex is handy for code parsing and analysis. For instance, you can use regex to search for specific function calls, variable names, or patterns in code.\n",
    "8.    Cross-Language Compatibility: Regular expressions are widely used across different programming languages. Once you understand regex in Python, you can apply similar patterns in other languages, enhancing your versatility as a programmer.\n",
    "\n",
    "\n",
    "In Python, the re module provides robust support for regular expressions, making it an essential skill for anyone working with textual data, automation, or data analysis in Python."
   ]
  },
  {
   "cell_type": "markdown",
   "metadata": {},
   "source": [
    "** ** \n",
    "** ** \n",
    "## 1. RegEx\n",
    "\n",
    "A **RegEx**, or Regular Expression, is a sequence of characters that forms a search pattern.\n",
    "\n",
    "RegEx can be used to check if a string contains the specified search pattern. It is a powerful tool for searches and replacements. \n",
    "\n",
    "In Python, when you have imported the **re** module (package), you can start using regular expressions. \n",
    "\n",
    "Let us take an example: Search the following string to see if it starts with \"The\" and ends with \"Spain\":\n"
   ]
  },
  {
   "cell_type": "code",
   "execution_count": 77,
   "metadata": {},
   "outputs": [
    {
     "name": "stdout",
     "output_type": "stream",
     "text": [
      "YES! We have a match!\n"
     ]
    }
   ],
   "source": [
    "import re\n",
    "\n",
    "txt = \"The rain in Spain\"\n",
    "x = re.search(\"^The.*Spain$\", txt)\n",
    "#  ^   means : starts with \"The\"\n",
    "#   .  means : any characters\n",
    "#   *   means  : Zero or more occurrences (of any character here)\n",
    "#    $  means : ends with \n",
    "if x:\n",
    "  print(\"YES! We have a match!\")\n",
    "else:\n",
    "  print(\"No match\")"
   ]
  },
  {
   "cell_type": "markdown",
   "metadata": {},
   "source": [
    "** ** \n",
    "** ** \n",
    "## 3. Regular functions\n",
    "\n",
    "The **re** module offers a set of functions that allows us to search a string for a match:\n",
    "***\n",
    "* **findall**\t: Returns a list containing all matches\n",
    "* **search**\t: Returns a Match object if there is a match anywhere in the string\n",
    "* **split**\t: Returns a list where the string has been split at each match\n",
    "* **sub**\t: Replaces one or many matches with a string\n",
    "\n",
    "***"
   ]
  },
  {
   "cell_type": "markdown",
   "metadata": {},
   "source": [
    "** ** \n",
    "** ** \n",
    "## 3. Metacharacters\n",
    "\n",
    "Metacharacters are characters with a special meaning:\n",
    "***\n",
    "* **[ ]**\t: A set of characters\n",
    "* **\\**\t: Signals a special sequence (can also be used to escape special characters)\t\n",
    "* **.**\t: Any character (except newline character)\t\n",
    "* **^**\t: Starts with\t\n",
    "*  \\\\$ \t: Ends with\t\t\n",
    "*  \\* \t: Zero or more occurrences\t\n",
    "* **+**\t: One or more occurrences\t\n",
    "* **{ }**\t: Exactly the specified number of occurrences\t\n",
    "* **|**\t: Either or\t\t\n",
    "* **( )**\t: Capture and group\n",
    "\n",
    "***\n",
    "\n",
    "Let us try these metacharacters:"
   ]
  },
  {
   "cell_type": "code",
   "execution_count": 78,
   "metadata": {
    "scrolled": true
   },
   "outputs": [],
   "source": [
    "import re\n",
    "\n",
    "txt = \"The rain in Spain\"\n"
   ]
  },
  {
   "cell_type": "code",
   "execution_count": 79,
   "metadata": {},
   "outputs": [
    {
     "name": "stdout",
     "output_type": "stream",
     "text": [
      "['h', 'e', 'a', 'i', 'i', 'a', 'i']\n"
     ]
    }
   ],
   "source": [
    "#use [ ] : Find all lower case characters alphabetically between \"a\" and \"m\":\n",
    "\n",
    "x = re.findall(\"[a-m]\", txt)\n",
    "print(x)"
   ]
  },
  {
   "cell_type": "code",
   "execution_count": 80,
   "metadata": {
    "scrolled": true
   },
   "outputs": [
    {
     "name": "stdout",
     "output_type": "stream",
     "text": [
      "['5', '9']\n"
     ]
    },
    {
     "name": "stderr",
     "output_type": "stream",
     "text": [
      "<>:6: SyntaxWarning: invalid escape sequence '\\d'\n",
      "<>:6: SyntaxWarning: invalid escape sequence '\\d'\n",
      "C:\\Users\\a\\AppData\\Local\\Temp\\ipykernel_27580\\1514882386.py:6: SyntaxWarning: invalid escape sequence '\\d'\n",
      "  x = re.findall(\"\\d\", txt)\n"
     ]
    }
   ],
   "source": [
    "#use \\ : Signals a special sequence\n",
    "## \\d  : Returns a match where the string contains digits (numbers from 0-9)\n",
    "import re\n",
    "txt = \"That will be 59 dollars\"\n",
    "#Find all digit characters:\n",
    "x = re.findall(\"\\d\", txt)\n",
    "print(x)"
   ]
  },
  {
   "cell_type": "code",
   "execution_count": 81,
   "metadata": {},
   "outputs": [
    {
     "name": "stdout",
     "output_type": "stream",
     "text": [
      "['hello']\n"
     ]
    }
   ],
   "source": [
    "#use . : Any character (except newline character)\n",
    "import re\n",
    "txt = \"hello world\"\n",
    "#Search for a sequence that starts with \"he\", followed by two (any) characters, and an \"o\":\n",
    "x = re.findall(\"he..o\", txt)\n",
    "print(x)"
   ]
  },
  {
   "cell_type": "code",
   "execution_count": 82,
   "metadata": {},
   "outputs": [
    {
     "name": "stdout",
     "output_type": "stream",
     "text": [
      "Yes, the string starts with 'hello'\n"
     ]
    }
   ],
   "source": [
    "#use ^: Starts with\n",
    "import re\n",
    "txt = \"hello world\"\n",
    "#Check if the string starts with 'hello':\n",
    "x = re.findall(\"^hello\", txt)\n",
    "if x:\n",
    "  print(\"Yes, the string starts with 'hello'\")\n",
    "else:\n",
    "  print(\"No match\")"
   ]
  },
  {
   "cell_type": "code",
   "execution_count": 83,
   "metadata": {},
   "outputs": [
    {
     "name": "stdout",
     "output_type": "stream",
     "text": [
      "Yes, the string ends with 'world'\n"
     ]
    }
   ],
   "source": [
    "#use $ : Ends with\n",
    "import re\n",
    "txt = \"hello world\"\n",
    "#Check if the string ends with 'world':\n",
    "x = re.findall(\"world$\", txt)\n",
    "if x:\n",
    "  print(\"Yes, the string ends with 'world'\")\n",
    "else:\n",
    "  print(\"No match\")"
   ]
  },
  {
   "cell_type": "code",
   "execution_count": 84,
   "metadata": {},
   "outputs": [
    {
     "name": "stdout",
     "output_type": "stream",
     "text": [
      "['ai', 'ai', 'ai', 'ai']\n",
      "Yes, there is at least one match!\n"
     ]
    }
   ],
   "source": [
    "#use * : Zero or more occurrences\n",
    "import re\n",
    "txt = \"The rain in Spain falls mainly in the plain!\"\n",
    "#Check if the string contains \"ai\" followed by 0 or more \"x\" characters:\n",
    "x = re.findall(\"aix*\", txt)\n",
    "print(x)\n",
    "if x:\n",
    "  print(\"Yes, there is at least one match!\")\n",
    "else:\n",
    "  print(\"No match\")"
   ]
  },
  {
   "cell_type": "code",
   "execution_count": 85,
   "metadata": {},
   "outputs": [
    {
     "name": "stdout",
     "output_type": "stream",
     "text": [
      "[]\n",
      "No match\n"
     ]
    }
   ],
   "source": [
    "#use + : One or more occurrences\n",
    "import re\n",
    "txt = \"The rain in Spain falls mainly in the plain!\"\n",
    "#Check if the string contains \"ai\" followed by 1 or more \"x\" characters:\n",
    "x = re.findall(\"aix+\", txt)\n",
    "print(x)\n",
    "if x:\n",
    "  print(\"Yes, there is at least one match!\")\n",
    "else:\n",
    "  print(\"No match\")"
   ]
  },
  {
   "cell_type": "code",
   "execution_count": 86,
   "metadata": {},
   "outputs": [
    {
     "name": "stdout",
     "output_type": "stream",
     "text": [
      "['all']\n",
      "Yes, there is at least one match!\n"
     ]
    }
   ],
   "source": [
    "#use { } : Exactly the specified number of occurrences\n",
    "import re\n",
    "txt = \"The rain in Spain falls mainly in the plain!\"\n",
    "#Check if the string contains \"a\" followed by exactly two \"l\" characters:\n",
    "x = re.findall(\"al{2}\", txt)\n",
    "print(x)\n",
    "if x:\n",
    "  print(\"Yes, there is at least one match!\")\n",
    "else:\n",
    "  print(\"No match\")"
   ]
  },
  {
   "cell_type": "code",
   "execution_count": 87,
   "metadata": {},
   "outputs": [
    {
     "name": "stdout",
     "output_type": "stream",
     "text": [
      "['falls']\n",
      "Yes, there is at least one match!\n"
     ]
    }
   ],
   "source": [
    "#use | : Either or\n",
    "import re\n",
    "txt = \"The rain in Spain falls mainly in the plain!\"\n",
    "#Check if the string contains either \"falls\" or \"stays\":\n",
    "x = re.findall(\"falls|stays\", txt)\n",
    "print(x)\n",
    "if x:\n",
    "  print(\"Yes, there is at least one match!\")\n",
    "else:\n",
    "  print(\"No match\")"
   ]
  },
  {
   "cell_type": "markdown",
   "metadata": {},
   "source": [
    "** ** \n",
    "** ** \n",
    "## 4. Special Sequences\n",
    "\n",
    "A special sequence is a **\\** followed by one of the characters in the list below, and has a special meaning:\n",
    "\n",
    "***\n",
    "* **\\A**\t: Returns a match if the specified characters are at the beginning of the string\n",
    "* **\\b**\t: Returns a match where the specified characters are at the beginning or at the end of a word (the \"r\" in the beginning is making sure that the string is being treated as a \"raw string\")\n",
    "* **\\B**\t: Returns a match where the specified characters are present, but NOT at the beginning (or at the end) of a word (the \"r\" in the beginning is making sure that the string is being treated as a \"raw string\")\n",
    "* **\\d** :\tReturns a match where the string contains digits (numbers from 0-9)\n",
    "* **\\D** :\tReturns a match where the string DOES NOT contain digits\n",
    "* **\\s** :\tReturns a match where the string contains a white space character\n",
    "* **\\S** :\tReturns a match where the string DOES NOT contain a white space character\n",
    "* **\\w**\t: Returns a match where the string contains any word characters (characters from a to Z, digits from 0-9, and the underscore _ character)\n",
    "* **\\W**\t: Returns a match where the string DOES NOT contain any word characters\n",
    "* **\\Z**\t: Returns a match if the specified characters are at the end of the string\n",
    "***\n",
    "\n",
    "Raw string notation *(r\"text\")* keeps regular expressions sane. Without it, every backslash ('\\\\') in a regular expression would have to be prefixed with another one to escape it.\n",
    "\n",
    "\n",
    "Let us try these sequences:"
   ]
  },
  {
   "cell_type": "code",
   "execution_count": 88,
   "metadata": {},
   "outputs": [
    {
     "name": "stdout",
     "output_type": "stream",
     "text": [
      "['The']\n",
      "Yes, there is a match!\n"
     ]
    },
    {
     "name": "stderr",
     "output_type": "stream",
     "text": [
      "<>:5: SyntaxWarning: invalid escape sequence '\\A'\n",
      "<>:5: SyntaxWarning: invalid escape sequence '\\A'\n",
      "C:\\Users\\a\\AppData\\Local\\Temp\\ipykernel_27580\\3288820750.py:5: SyntaxWarning: invalid escape sequence '\\A'\n",
      "  x = re.findall(\"\\AThe\", txt)\n"
     ]
    }
   ],
   "source": [
    "#use \\A : Returns a match if the specified characters are at the beginning of the string\n",
    "import re\n",
    "txt = \"The rain in Spain\"\n",
    "#Check if the string starts with \"The\":\n",
    "x = re.findall(\"\\AThe\", txt)\n",
    "print(x)\n",
    "if x:\n",
    "  print(\"Yes, there is a match!\")\n",
    "else:\n",
    "  print(\"No match\")"
   ]
  },
  {
   "cell_type": "code",
   "execution_count": 89,
   "metadata": {},
   "outputs": [
    {
     "name": "stdout",
     "output_type": "stream",
     "text": [
      "[]\n",
      "No match\n",
      "['ain', 'ain']\n",
      "Yes, there is at least one match at the end!\n"
     ]
    }
   ],
   "source": [
    "#use \\b : Returns a match where the specified characters are at the beginning or at the end of a word \n",
    "#(the \"r\" in the beginning is making sure that the string is being treated as a \"raw string\")\n",
    "import re\n",
    "txt = \"The rain in Spain\"\n",
    "#Check if \"ain\" is present at the beginning of a WORD:\n",
    "x = re.findall(\"r\\bain\", txt)\n",
    "print(x)\n",
    "if x:\n",
    "  print(\"Yes, there is at least one match at the beginning!\")\n",
    "else:\n",
    "  print(\"No match\")\n",
    "\n",
    "#Check if \"ain\" is present at the end of a WORD:\n",
    "x = re.findall(r\"ain\\b\", txt)\n",
    "print(x)\n",
    "if x:\n",
    "  print(\"Yes, there is at least one match at the end!\")\n",
    "else:\n",
    "  print(\"No match\")"
   ]
  },
  {
   "cell_type": "code",
   "execution_count": 90,
   "metadata": {},
   "outputs": [
    {
     "name": "stdout",
     "output_type": "stream",
     "text": [
      "['ain', 'ain']\n",
      "Yes, there is at least one match, NOT at the beginning of a word!\n",
      "[]\n",
      "No match\n"
     ]
    }
   ],
   "source": [
    "#use \\B : Returns a match where the specified characters are present, but NOT at the beginning (or at the end) of a word\n",
    "#(the \"r\" in the beginning is making sure that the string is being treated as a \"raw string\")\n",
    "import re\n",
    "txt = \"The rain in Spain\"\n",
    "#Check if \"ain\" is present, but NOT at the beginning of a word:\n",
    "x = re.findall(r\"\\Bain\", txt)\n",
    "print(x)\n",
    "if x:\n",
    "  print(\"Yes, there is at least one match, NOT at the beginning of a word!\")\n",
    "else:\n",
    "  print(\"No match\")\n",
    "\n",
    "#Check if \"ain\" is present, but NOT at the end of a word:\n",
    "x = re.findall(r\"ain\\B\", txt)\n",
    "print(x)\n",
    "if x:\n",
    "  print(\"Yes, there is at least one match, NOT at the end of a word!\")\n",
    "else:\n",
    "  print(\"No match\")"
   ]
  },
  {
   "cell_type": "code",
   "execution_count": 91,
   "metadata": {},
   "outputs": [
    {
     "name": "stdout",
     "output_type": "stream",
     "text": [
      "[]\n",
      "No match\n"
     ]
    },
    {
     "name": "stderr",
     "output_type": "stream",
     "text": [
      "<>:5: SyntaxWarning: invalid escape sequence '\\d'\n",
      "<>:5: SyntaxWarning: invalid escape sequence '\\d'\n",
      "C:\\Users\\a\\AppData\\Local\\Temp\\ipykernel_27580\\1308153717.py:5: SyntaxWarning: invalid escape sequence '\\d'\n",
      "  x = re.findall(\"\\d\", txt)\n"
     ]
    }
   ],
   "source": [
    "#use \\d : Returns a match where the string contains digits (numbers from 0-9)\n",
    "import re\n",
    "txt = \"The rain in Spain\"\n",
    "#Check if the string contains any digits (numbers from 0-9):\n",
    "x = re.findall(\"\\d\", txt)\n",
    "print(x)\n",
    "\n",
    "if x:\n",
    "  print(\"Yes, there is at least one match!\")\n",
    "else:\n",
    "  print(\"No match\")\n"
   ]
  },
  {
   "cell_type": "code",
   "execution_count": 92,
   "metadata": {},
   "outputs": [
    {
     "name": "stdout",
     "output_type": "stream",
     "text": [
      "['T', 'h', 'e', ' ', 'r', 'a', 'i', 'n', ' ', 'i', 'n', ' ', 'S', 'p', 'a', 'i', 'n']\n",
      "Yes, there is at least one match!\n"
     ]
    },
    {
     "name": "stderr",
     "output_type": "stream",
     "text": [
      "<>:5: SyntaxWarning: invalid escape sequence '\\D'\n",
      "<>:5: SyntaxWarning: invalid escape sequence '\\D'\n",
      "C:\\Users\\a\\AppData\\Local\\Temp\\ipykernel_27580\\4271693254.py:5: SyntaxWarning: invalid escape sequence '\\D'\n",
      "  x = re.findall(\"\\D\", txt)\n"
     ]
    }
   ],
   "source": [
    "#use \\D : Returns a match where the string DOES NOT contain digits\n",
    "import re\n",
    "txt = \"The rain in Spain\"\n",
    "#Return a match at every no-digit character:\n",
    "x = re.findall(\"\\D\", txt)\n",
    "print(x)\n",
    "if x:\n",
    "  print(\"Yes, there is at least one match!\")\n",
    "else:\n",
    "  print(\"No match\")"
   ]
  },
  {
   "cell_type": "code",
   "execution_count": 93,
   "metadata": {},
   "outputs": [
    {
     "name": "stdout",
     "output_type": "stream",
     "text": [
      "[' ', ' ', ' ']\n",
      "Yes, there is at least one match!\n"
     ]
    },
    {
     "name": "stderr",
     "output_type": "stream",
     "text": [
      "<>:5: SyntaxWarning: invalid escape sequence '\\s'\n",
      "<>:5: SyntaxWarning: invalid escape sequence '\\s'\n",
      "C:\\Users\\a\\AppData\\Local\\Temp\\ipykernel_27580\\4096642304.py:5: SyntaxWarning: invalid escape sequence '\\s'\n",
      "  x = re.findall(\"\\s\", txt)\n"
     ]
    }
   ],
   "source": [
    "#use \\s : Returns a match where the string contains a white space character\n",
    "import re\n",
    "txt = \"The rain in Spain\"\n",
    "#Return a match at every white-space character:\n",
    "x = re.findall(\"\\s\", txt)\n",
    "print(x)\n",
    "if x:\n",
    "  print(\"Yes, there is at least one match!\")\n",
    "else:\n",
    "  print(\"No match\")"
   ]
  },
  {
   "cell_type": "code",
   "execution_count": 94,
   "metadata": {},
   "outputs": [
    {
     "name": "stdout",
     "output_type": "stream",
     "text": [
      "['T', 'h', 'e', 'r', 'a', 'i', 'n', 'i', 'n', 'S', 'p', 'a', 'i', 'n']\n",
      "Yes, there is at least one match!\n"
     ]
    },
    {
     "name": "stderr",
     "output_type": "stream",
     "text": [
      "<>:5: SyntaxWarning: invalid escape sequence '\\S'\n",
      "<>:5: SyntaxWarning: invalid escape sequence '\\S'\n",
      "C:\\Users\\a\\AppData\\Local\\Temp\\ipykernel_27580\\69678042.py:5: SyntaxWarning: invalid escape sequence '\\S'\n",
      "  x = re.findall(\"\\S\", txt)\n"
     ]
    }
   ],
   "source": [
    "#use \\S : Returns a match where the string DOES NOT contain a white space character\n",
    "import re\n",
    "txt = \"The rain in Spain\"\n",
    "#Return a match at every NON white-space character:\n",
    "x = re.findall(\"\\S\", txt)\n",
    "print(x)\n",
    "if x:\n",
    "  print(\"Yes, there is at least one match!\")\n",
    "else:\n",
    "  print(\"No match\")"
   ]
  },
  {
   "cell_type": "code",
   "execution_count": 95,
   "metadata": {},
   "outputs": [
    {
     "name": "stdout",
     "output_type": "stream",
     "text": [
      "['T', 'h', 'e', 'r', 'a', 'i', 'n', 'i', 'n', 'S', 'p', 'a', 'i', 'n']\n",
      "Yes, there is at least one match!\n"
     ]
    },
    {
     "name": "stderr",
     "output_type": "stream",
     "text": [
      "<>:6: SyntaxWarning: invalid escape sequence '\\w'\n",
      "<>:6: SyntaxWarning: invalid escape sequence '\\w'\n",
      "C:\\Users\\a\\AppData\\Local\\Temp\\ipykernel_27580\\716209472.py:6: SyntaxWarning: invalid escape sequence '\\w'\n",
      "  x = re.findall(\"\\w\", txt)\n"
     ]
    }
   ],
   "source": [
    "#use \\w : Returns a match where the string contains any word characters \n",
    "#(characters from a to Z, digits from 0-9, and the underscore _ character)\n",
    "import re\n",
    "txt = \"The rain in Spain\"\n",
    "#Return a match at every word character (characters from a to Z, digits from 0-9, and the underscore _ character):\n",
    "x = re.findall(\"\\w\", txt)\n",
    "print(x)\n",
    "if x:\n",
    "  print(\"Yes, there is at least one match!\")\n",
    "else:\n",
    "  print(\"No match\")"
   ]
  },
  {
   "cell_type": "code",
   "execution_count": 96,
   "metadata": {},
   "outputs": [
    {
     "name": "stdout",
     "output_type": "stream",
     "text": [
      "[' ', ' ', ' ']\n",
      "Yes, there is at least one match!\n"
     ]
    },
    {
     "name": "stderr",
     "output_type": "stream",
     "text": [
      "<>:5: SyntaxWarning: invalid escape sequence '\\W'\n",
      "<>:5: SyntaxWarning: invalid escape sequence '\\W'\n",
      "C:\\Users\\a\\AppData\\Local\\Temp\\ipykernel_27580\\1982002983.py:5: SyntaxWarning: invalid escape sequence '\\W'\n",
      "  x = re.findall(\"\\W\", txt)\n"
     ]
    }
   ],
   "source": [
    "#use \\W : Returns a match where the string DOES NOT contain any word characters\n",
    "import re\n",
    "txt = \"The rain in Spain\"\n",
    "#Return a match at every NON word character (characters NOT between a and Z. Like \"!\", \"?\" white-space etc.):\n",
    "x = re.findall(\"\\W\", txt)\n",
    "print(x)\n",
    "if x:\n",
    "  print(\"Yes, there is at least one match!\")\n",
    "else:\n",
    "  print(\"No match\")"
   ]
  },
  {
   "cell_type": "code",
   "execution_count": 97,
   "metadata": {},
   "outputs": [
    {
     "name": "stdout",
     "output_type": "stream",
     "text": [
      "['Spain']\n",
      "Yes, there is a match!\n"
     ]
    },
    {
     "name": "stderr",
     "output_type": "stream",
     "text": [
      "<>:5: SyntaxWarning: invalid escape sequence '\\Z'\n",
      "<>:5: SyntaxWarning: invalid escape sequence '\\Z'\n",
      "C:\\Users\\a\\AppData\\Local\\Temp\\ipykernel_27580\\4102809919.py:5: SyntaxWarning: invalid escape sequence '\\Z'\n",
      "  x = re.findall(\"Spain\\Z\", txt)\n"
     ]
    }
   ],
   "source": [
    "#use \\Z : Returns a match if the specified characters are at the end of the string\n",
    "import re\n",
    "txt = \"The rain in Spain\"\n",
    "#Check if the string ends with \"Spain\":\n",
    "x = re.findall(\"Spain\\Z\", txt)\n",
    "print(x)\n",
    "if x:\n",
    "  print(\"Yes, there is a match!\")\n",
    "else:\n",
    "  print(\"No match\")"
   ]
  },
  {
   "cell_type": "markdown",
   "metadata": {},
   "source": [
    "** ** \n",
    "** ** \n",
    "## 5. Sets\n",
    "\n",
    "A set is a set of characters inside a pair of square brackets [ ] with a special meaning:\n",
    "\n",
    "***\n",
    "* **[arn]** :\tReturns a match where one of the specified characters (for example: a, r, or n) are present\n",
    "* **[a-n]**\t: Returns a match for any lower case character, alphabetically between (for example) a and n\n",
    "* **[^arn]** :\tReturns a match for any character EXCEPT (for example) a, r, and n\n",
    "* **[0123]** : Returns a match where any of the specified digits (for example 0, 1, 2, or 3) are present\n",
    "* **[0-9]** :\tReturns a match for any digit between 0 and 9\n",
    "* **[0-5][0-9]** :\tReturns a match for any two-digit numbers from 00 and 59\n",
    "* **[a-zA-Z]**\tReturns a match for any character alphabetically between a and z, lower case OR upper case\n",
    "* **[+]**\t: In sets, +, *, ., |, ( ), $,{ } has no special meaning, so [+] means: return a match for any + character in the string\n",
    "***\n",
    "\n",
    "Let us try these sets:"
   ]
  },
  {
   "cell_type": "code",
   "execution_count": 98,
   "metadata": {},
   "outputs": [
    {
     "name": "stdout",
     "output_type": "stream",
     "text": [
      "['r', 'a', 'n', 'n', 'a', 'n']\n",
      "Yes, there is at least one match!\n"
     ]
    }
   ],
   "source": [
    "#use [arn] : Returns a match where one of the specified characters (a, r, or n) are present\n",
    "import re\n",
    "txt = \"The rain in Spain\"\n",
    "#Check if the string has any a, r, or n characters:\n",
    "x = re.findall(\"[arn]\", txt)\n",
    "print(x)\n",
    "if x:\n",
    "  print(\"Yes, there is at least one match!\")\n",
    "else:\n",
    "  print(\"No match\")"
   ]
  },
  {
   "cell_type": "code",
   "execution_count": 99,
   "metadata": {},
   "outputs": [
    {
     "name": "stdout",
     "output_type": "stream",
     "text": [
      "['h', 'e', 'a', 'i', 'n', 'i', 'n', 'a', 'i', 'n']\n",
      "Yes, there is at least one match!\n"
     ]
    }
   ],
   "source": [
    "#use [a-n] : Returns a match for any lower case character, alphabetically between a and n\n",
    "import re\n",
    "txt = \"The rain in Spain\"\n",
    "#Check if the string has any characters between a and n:\n",
    "x = re.findall(\"[a-n]\", txt)\n",
    "print(x)\n",
    "if x:\n",
    "  print(\"Yes, there is at least one match!\")\n",
    "else:\n",
    "  print(\"No match\")"
   ]
  },
  {
   "cell_type": "code",
   "execution_count": 100,
   "metadata": {},
   "outputs": [
    {
     "name": "stdout",
     "output_type": "stream",
     "text": [
      "['T', 'h', 'e', ' ', 'i', ' ', 'i', ' ', 'S', 'p', 'i']\n",
      "Yes, there is at least one match!\n"
     ]
    }
   ],
   "source": [
    "#use [^arn] : Returns a match for any character EXCEPT a, r, and n\n",
    "import re\n",
    "txt = \"The rain in Spain\"\n",
    "#Check if the string has other characters than a, r, or n:\n",
    "x = re.findall(\"[^arn]\", txt)\n",
    "print(x)\n",
    "if x:\n",
    "  print(\"Yes, there is at least one match!\")\n",
    "else:\n",
    "  print(\"No match\")"
   ]
  },
  {
   "cell_type": "code",
   "execution_count": 101,
   "metadata": {},
   "outputs": [
    {
     "name": "stdout",
     "output_type": "stream",
     "text": [
      "[]\n",
      "No match\n"
     ]
    }
   ],
   "source": [
    "#use [0123] : Returns a match where any of the specified digits (0, 1, 2, or 3) are present\n",
    "import re\n",
    "txt = \"The rain in Spain\"\n",
    "#Check if the string has any 0, 1, 2, or 3 digits:\n",
    "x = re.findall(\"[0123]\", txt)\n",
    "print(x)\n",
    "if x:\n",
    "  print(\"Yes, there is at least one match!\")\n",
    "else:\n",
    "  print(\"No match\")"
   ]
  },
  {
   "cell_type": "code",
   "execution_count": 102,
   "metadata": {},
   "outputs": [
    {
     "name": "stdout",
     "output_type": "stream",
     "text": [
      "['8', '1', '1', '4', '5']\n",
      "Yes, there is at least one match!\n"
     ]
    }
   ],
   "source": [
    "#use [0-9] : Returns a match for any digit between 0 and 9\n",
    "import re\n",
    "txt = \"8 times before 11:45 AM\"\n",
    "#Check if the string has any digits:\n",
    "x = re.findall(\"[0-9]\", txt)\n",
    "print(x)\n",
    "if x:\n",
    "  print(\"Yes, there is at least one match!\")\n",
    "else:\n",
    "  print(\"No match\")"
   ]
  },
  {
   "cell_type": "code",
   "execution_count": 103,
   "metadata": {},
   "outputs": [
    {
     "name": "stdout",
     "output_type": "stream",
     "text": [
      "['11', '45']\n",
      "Yes, there is at least one match!\n"
     ]
    }
   ],
   "source": [
    "#use [0-5][0-9] : Returns a match for any two-digit numbers from 00 and 59\n",
    "import re\n",
    "txt = \"8 times before 11:45 AM\"\n",
    "#Check if the string has any two-digit numbers, from 00 to 59:\n",
    "x = re.findall(\"[0-5][0-9]\", txt)\n",
    "print(x)\n",
    "if x:\n",
    "  print(\"Yes, there is at least one match!\")\n",
    "else:\n",
    "  print(\"No match\")"
   ]
  },
  {
   "cell_type": "code",
   "execution_count": 104,
   "metadata": {},
   "outputs": [
    {
     "name": "stdout",
     "output_type": "stream",
     "text": [
      "['t', 'i', 'm', 'e', 's', 'b', 'e', 'f', 'o', 'r', 'e', 'A', 'M']\n",
      "Yes, there is at least one match!\n"
     ]
    }
   ],
   "source": [
    "#use [a-zA-Z] Returns a match for any character alphabetically between a and z, lower case OR upper case\n",
    "import re\n",
    "txt = \"8 times before 11:45 AM\"\n",
    "#Check if the string has any characters from a to z lower case, and A to Z upper case:\n",
    "x = re.findall(\"[a-zA-Z]\", txt)\n",
    "print(x)\n",
    "if x:\n",
    "  print(\"Yes, there is at least one match!\")\n",
    "else:\n",
    "  print(\"No match\")"
   ]
  },
  {
   "cell_type": "code",
   "execution_count": null,
   "metadata": {},
   "outputs": [
    {
     "name": "stdout",
     "output_type": "stream",
     "text": [
      "['5+']\n",
      "Yes, there is at least one match!\n"
     ]
    }
   ],
   "source": [
    "#use [+] : In sets, +, *, ., |, ( ), $,{ } has no special meaning, so [+] means: return a match for any + character in the string\n",
    "import re\n",
    "txt = \"8 times before 11:45+ AM\"\n",
    "#Check if the string has any + characters:\n",
    "x = re.findall(\"[+]\", txt)\n",
    "print(x)\n",
    "if x:\n",
    "  print(\"Yes, there is at least one match!\")\n",
    "else:\n",
    "  print(\"No match\")"
   ]
  },
  {
   "cell_type": "markdown",
   "metadata": {},
   "source": [
    "** ** \n",
    "** ** \n",
    "## 6. findall() Function\n",
    "\n",
    "The findall() function returns a list containing all matches. The list contains the matches in the order they are found. If no matches are found, an empty list is returned:"
   ]
  },
  {
   "cell_type": "code",
   "execution_count": null,
   "metadata": {},
   "outputs": [
    {
     "name": "stdout",
     "output_type": "stream",
     "text": [
      "['ai', 'ai']\n",
      "[]\n"
     ]
    }
   ],
   "source": [
    "import re\n",
    "\n",
    "txt = \"The rain in Spain\"\n",
    "x = re.findall(\"ai\", txt)\n",
    "print(x)\n",
    "\n",
    "y = re.findall(\"Portugal\", txt)\n",
    "print(y)"
   ]
  },
  {
   "cell_type": "markdown",
   "metadata": {},
   "source": [
    "** ** \n",
    "** ** \n",
    "## 7. search() Function\n",
    "\n",
    "The search() function searches the string for a match, and returns a Match object if there is a match.\n",
    "\n",
    "If there is more than one match, only the first occurrence of the match will be returned. If no matches are found, the value None is returned."
   ]
  },
  {
   "cell_type": "code",
   "execution_count": 115,
   "metadata": {},
   "outputs": [
    {
     "name": "stdout",
     "output_type": "stream",
     "text": [
      "The first white-space character is located in position: 3\n",
      "None\n"
     ]
    },
    {
     "name": "stderr",
     "output_type": "stream",
     "text": [
      "<>:4: SyntaxWarning: invalid escape sequence '\\s'\n",
      "<>:4: SyntaxWarning: invalid escape sequence '\\s'\n",
      "C:\\Users\\a\\AppData\\Local\\Temp\\ipykernel_27580\\1813377240.py:4: SyntaxWarning: invalid escape sequence '\\s'\n",
      "  x = re.search('\\s', txt) ## recall : \\s : Returns a match where the string contains a white space character\n"
     ]
    }
   ],
   "source": [
    "import re\n",
    "\n",
    "txt = \"The rain in Spain\"\n",
    "x = re.search('\\s', txt) ## recall : \\s : Returns a match where the string contains a white space character\n",
    "\n",
    "print(\"The first white-space character is located in position:\", x.start()) \n",
    "\n",
    "y = re.search(\"Portugal\", txt)\n",
    "print(y)"
   ]
  },
  {
   "cell_type": "markdown",
   "metadata": {},
   "source": [
    "** ** \n",
    "** ** \n",
    "## 8. split() Function\n",
    "The split() function returns a list where the string has been split at each match. You can control the number of occurrences by specifying the maxsplit parameter."
   ]
  },
  {
   "cell_type": "code",
   "execution_count": 108,
   "metadata": {},
   "outputs": [
    {
     "name": "stdout",
     "output_type": "stream",
     "text": [
      "['The', 'rain', 'in', 'Spain']\n",
      "['The', 'rain in Spain']\n"
     ]
    },
    {
     "name": "stderr",
     "output_type": "stream",
     "text": [
      "<>:5: SyntaxWarning: invalid escape sequence '\\s'\n",
      "<>:9: SyntaxWarning: invalid escape sequence '\\s'\n",
      "<>:5: SyntaxWarning: invalid escape sequence '\\s'\n",
      "<>:9: SyntaxWarning: invalid escape sequence '\\s'\n",
      "C:\\Users\\a\\AppData\\Local\\Temp\\ipykernel_27580\\3838990961.py:5: SyntaxWarning: invalid escape sequence '\\s'\n",
      "  x = re.split(\"\\s\", txt)\n",
      "C:\\Users\\a\\AppData\\Local\\Temp\\ipykernel_27580\\3838990961.py:9: SyntaxWarning: invalid escape sequence '\\s'\n",
      "  y = re.split(\"\\s\", txt, 1)\n"
     ]
    }
   ],
   "source": [
    "import re\n",
    "\n",
    "#Split the string at every white-space character:\n",
    "txt = \"The rain in Spain\"\n",
    "x = re.split(\"\\s\", txt)\n",
    "print(x)\n",
    "\n",
    "#Split the string at the first white-space character:\n",
    "y = re.split(\"\\s\", txt, 1)\n",
    "print(y)\n"
   ]
  },
  {
   "cell_type": "markdown",
   "metadata": {},
   "source": [
    "** ** \n",
    "** ** \n",
    "## 9. sub() Function\n",
    "The sub() function replaces the matches with the text of your choice. You can control the number of replacements by specifying the count parameter:"
   ]
  },
  {
   "cell_type": "code",
   "execution_count": 109,
   "metadata": {},
   "outputs": [
    {
     "name": "stdout",
     "output_type": "stream",
     "text": [
      "The9rain9in9Spain\n",
      "The9rain9in Spain\n"
     ]
    },
    {
     "name": "stderr",
     "output_type": "stream",
     "text": [
      "<>:5: SyntaxWarning: invalid escape sequence '\\s'\n",
      "<>:10: SyntaxWarning: invalid escape sequence '\\s'\n",
      "<>:5: SyntaxWarning: invalid escape sequence '\\s'\n",
      "<>:10: SyntaxWarning: invalid escape sequence '\\s'\n",
      "C:\\Users\\a\\AppData\\Local\\Temp\\ipykernel_27580\\4209420301.py:5: SyntaxWarning: invalid escape sequence '\\s'\n",
      "  x = re.sub(\"\\s\", \"9\", txt)\n",
      "C:\\Users\\a\\AppData\\Local\\Temp\\ipykernel_27580\\4209420301.py:10: SyntaxWarning: invalid escape sequence '\\s'\n",
      "  y = re.sub(\"\\s\", \"9\", txt, 2)\n"
     ]
    }
   ],
   "source": [
    "import re\n",
    "\n",
    "#Replace all white-space characters with the digit \"9\":\n",
    "txt = \"The rain in Spain\"\n",
    "x = re.sub(\"\\s\", \"9\", txt)\n",
    "print(x)\n",
    "\n",
    "#Replace the first two occurrences of a white-space character with the digit 9:\n",
    "txt = \"The rain in Spain\"\n",
    "y = re.sub(\"\\s\", \"9\", txt, 2)\n",
    "print(y)\n"
   ]
  },
  {
   "cell_type": "markdown",
   "metadata": {},
   "source": [
    "** ** \n",
    "** ** \n",
    "## 10. Match Object\n",
    "A Match Object is an object containing information about the search and the result.\n",
    "If there is no match, the value None will be returned, instead of the Match Object.\n",
    "The Match object has properties and methods used to retrieve information about the search, and the result:\n",
    "* span() returns a tuple containing the start-, and end positions of the match.\n",
    "* string returns the string passed into the function\n",
    "* group() returns the part of the string where there was a match\n",
    "\n",
    "You can also use the function **match()**..."
   ]
  },
  {
   "cell_type": "code",
   "execution_count": 110,
   "metadata": {},
   "outputs": [
    {
     "name": "stdout",
     "output_type": "stream",
     "text": [
      "object is :  <re.Match object; span=(5, 7), match='ai'>\n",
      "(12, 17)\n",
      "12\n",
      "The rain in Spain\n",
      "Spain\n",
      "bla\n"
     ]
    }
   ],
   "source": [
    "import re\n",
    "\n",
    "txt = \"The rain in Spain\"\n",
    "x = re.search(\"ai\", txt)\n",
    "print(\"object is : \" , x) #this will print an object\n",
    "\n",
    "#Search for an upper case \"S\" character in the beginning of a word, and print its position:\n",
    "x = re.search(r\"\\bS\\w+\", txt)\n",
    "print(x.span())\n",
    "print(x.start())# will print the first position only\n",
    "\n",
    "\n",
    "\n",
    "#The string property returns the search string:\n",
    "y = re.search(r\"\\bS\\w+\", txt)\n",
    "print(y.string)\n",
    "\n",
    "#Search for an upper case \"S\" character in the beginning of a word, and print the word:\n",
    "txt = \"The rain in Spain\"\n",
    "x = re.search(r\"\\bS\\w+\", txt)\n",
    "print(x.group())\n",
    "\n",
    "# in the string 'blabliblu', get words starting by 'bl' and followed by 'a' or 'i' or 'u\n",
    "match = re.match('bl[aiu]','blabliblu')\n",
    "print (match.group())\n"
   ]
  },
  {
   "cell_type": "code",
   "execution_count": 111,
   "metadata": {},
   "outputs": [
    {
     "name": "stdout",
     "output_type": "stream",
     "text": [
      "object is :  <re.Match object; span=(12, 17), match='Spain'>\n",
      "(12, 17)\n",
      "12\n"
     ]
    }
   ],
   "source": [
    "import re\n",
    "\n",
    "txt = \"The rain in Spain\"\n",
    "x = re.search(r\"\\bS\\w+\", txt)\n",
    "print(\"object is : \" , x) #this will print an object\n",
    "\n",
    "#Search for an upper case \"S\" character in the beginning of a word, and print its position:\n",
    "x = re.search(r\"\\bS\\w+\", txt)\n",
    "print(x.span())\n",
    "print(x.start())# will pritn the first position only"
   ]
  },
  {
   "cell_type": "markdown",
   "metadata": {},
   "source": [
    "** ** \n",
    "** ** \n",
    "## 11. Exercise: find *named entities*\n",
    "We want to find all words that start all the time with a capital letter, i.e. they do not exist  with lowercase letters. Notice that these words have high chances of being named entities."
   ]
  },
  {
   "cell_type": "code",
   "execution_count": 112,
   "metadata": {},
   "outputs": [
    {
     "name": "stdout",
     "output_type": "stream",
     "text": [
      "['The', 'American', 'Michael', 'Irwin', 'Jordan']\n",
      "{'Michael', 'American', 'Irwin', 'Jordan'}\n"
     ]
    }
   ],
   "source": [
    "import re\n",
    "\n",
    "\n",
    "### Let us start with a simple case : finding words starting with a capital letter\n",
    "## notice that the word \"the\" should not appear in our result\n",
    "txt = \"The American scientist Michael Irwin Jordan isis one of the leading figures in machine learning\"\n",
    "capital_letter_words = re.findall('([A-Z][a-zA-Z]+)', txt) # find words starting by letter from A to Z, then with 0 or more letters whatever the case\n",
    "print(capital_letter_words)\n",
    "### We will now go through the resulting list in order to search whether words appear in a small letter case\n",
    "## we can use list comprehension \n",
    "## we use \"set\" to keep only one occurence of each item in the list\n",
    "named_entities_set = set([x for x in capital_letter_words if x in txt and x.lower() not in txt])\n",
    "print(named_entities_set)\n",
    "\n",
    "\n"
   ]
  },
  {
   "cell_type": "code",
   "execution_count": 113,
   "metadata": {},
   "outputs": [
    {
     "name": "stdout",
     "output_type": "stream",
     "text": [
      " ------Text------\n",
      " Michael Irwin Jordan (born February 25, 1956) is an American scientist, professor at the University of California, Berkeley and researcher in machine learning, statistics, and artificial intelligence.\n",
      "The American scientist is one of the leading figures in machine learning, and in 2016 Science reported him as the world's most influential computer scientist.\n",
      "Jordan received his BS magna cum laude in Psychology in 1978 from the Louisiana State University, his MS in Mathematics in 1980 from Arizona State University and his PhD in Cognitive Science in 1985 from the University of California, San Diego.\n",
      "At the University of California, San Diego, Jordan was a student of David Rumelhart and a member of the PDP Group in the 1980s. \n",
      "\n",
      "\n",
      "------Named entities list------ \n",
      "  ['Michael', 'Irwin', 'Jordan', 'February', 'American', 'University', 'California', 'Berkeley', 'American', 'Science', 'Jordan', 'BS', 'Psychology', 'Louisiana', 'State', 'University', 'MS', 'Mathematics', 'Arizona', 'State', 'University', 'PhD', 'Cognitive', 'Science', 'University', 'California', 'San', 'Diego', 'University', 'California', 'San', 'Diego', 'Jordan', 'David', 'Rumelhart', 'PDP', 'Group'] \n",
      "\n",
      "------Named entities set without repetition------ \n",
      "  {'David', 'Michael', 'American', 'California', 'Cognitive', 'San', 'BS', 'Science', 'Group', 'MS', 'February', 'University', 'Louisiana', 'State', 'Irwin', 'PDP', 'Arizona', 'Rumelhart', 'Diego', 'Jordan', 'Berkeley', 'Psychology', 'PhD', 'Mathematics'} \n",
      "\n"
     ]
    }
   ],
   "source": [
    "## Let us now do this when reading from a file\n",
    "import re\n",
    "\n",
    "my_file = open(\"files/Michael-Irwin-Jordan.txt\", \"r\")\n",
    "txt = my_file.read() ## read whole file to one String\n",
    "print(\" ------Text------\\n\",txt,\"\\n\\n\")\n",
    "\n",
    "capital_letter_words = re.findall('([A-Z][a-zA-Z]+)', txt)\n",
    "named_entities_list = [x for x in capital_letter_words if x in txt and x.lower() not in txt]\n",
    "   \n",
    "print(\"------Named entities list------ \\n \",named_entities_list, \"\\n\")  \n",
    "named_entities_set = set(named_entities_list) ## to keep one occurrence of \"University\" for example\n",
    "print(\"------Named entities set without repetition------ \\n \",named_entities_set, \"\\n\")    \n",
    "\n",
    "my_file.close()"
   ]
  }
 ],
 "metadata": {
  "kernelspec": {
   "display_name": "Python 3",
   "language": "python",
   "name": "python3"
  },
  "language_info": {
   "codemirror_mode": {
    "name": "ipython",
    "version": 3
   },
   "file_extension": ".py",
   "mimetype": "text/x-python",
   "name": "python",
   "nbconvert_exporter": "python",
   "pygments_lexer": "ipython3",
   "version": "3.12.5"
  }
 },
 "nbformat": 4,
 "nbformat_minor": 4
}
